{
 "cells": [
  {
   "cell_type": "code",
   "execution_count": 1,
   "id": "d1a1935a-ddf6-484c-8a9f-3be5813da0a4",
   "metadata": {},
   "outputs": [],
   "source": [
    "from __future__ import annotations\n",
    "\n",
    "import argparse\n",
    "import math\n",
    "import os\n",
    "from pathlib import Path\n",
    "from typing import List, Tuple\n",
    "\n",
    "from PIL import Image\n",
    "from torch.utils.data import Dataset"
   ]
  },
  {
   "cell_type": "markdown",
   "id": "e2bf37c5-5554-45e2-ab4e-58e72f31ac16",
   "metadata": {},
   "source": [
    "Datastes&Prepare"
   ]
  },
  {
   "cell_type": "code",
   "execution_count": 29,
   "id": "ec3abeb3-463b-4b1c-9507-e27d90ff6234",
   "metadata": {},
   "outputs": [],
   "source": [
    "class HandwritingDataset(Dataset):\n",
    "    \"\"\"Loads (image, transcription) pairs listed in a TSV file.\n",
    "\n",
    "    Each line in *label_file* should be:  <img_rel_path>\\t<label>\\n\n",
    "    Images are resized to fixed *target_height* while preserving aspect ratio.\n",
    "    \"\"\"\n",
    "\n",
    "    def __init__(\n",
    "        self,\n",
    "        data_root: str | Path,\n",
    "        label_file: str | Path,\n",
    "        char2idx: dict[str, int],\n",
    "        target_height: int = 64,\n",
    "    ) -> None:\n",
    "        super().__init__()\n",
    "        self.data_root = Path(data_root)\n",
    "        self.samples: List[Tuple[Path, str]] = []\n",
    "        with open(label_file, \"r\", encoding=\"utf-8\") as f:\n",
    "            for line in f:\n",
    "                img_rel, label = line.rstrip(\"\\n\").split(\"\\t\", 1)\n",
    "                img_name = os.path.basename(img_rel)  # ✅ 只取文件名部分\n",
    "                self.samples.append((self.data_root / img_name, label))\n",
    "\n",
    "        self.char2idx = char2idx\n",
    "        self.blank_idx = len(char2idx)  # final slot reserved for blank\n",
    "        self.to_tensor = transforms.ToTensor()  # converts HWC [0,255] -> CHW [0,1]\n",
    "        self.target_height = target_height\n",
    "    def _text_to_indices(self, text: str) -> List[int]:\n",
    "        # Replace '|' with space (same logic as TF script)\n",
    "        return [self.char2idx.get(ch, self.blank_idx) for ch in text.replace(\"|\", \" \")]\n",
    "\n",
    "    def _resize_keep_ratio(self, img: Image.Image) -> Image.Image:\n",
    "        if img.height == self.target_height:\n",
    "            return img\n",
    "        ratio = self.target_height / img.height\n",
    "        new_w = max(1, int(img.width * ratio))\n",
    "        return img.resize((new_w, self.target_height), Image.Resampling.LANCZOS)\n",
    "\n",
    "    def __len__(self):\n",
    "        return len(self.samples)\n",
    "\n",
    "    def __getitem__(self, idx):\n",
    "        img_path, label = self.samples[idx]\n",
    "        img = Image.open(img_path).convert(\"L\")  # grayscale\n",
    "        img = self._resize_keep_ratio(img)\n",
    "        img_tensor = self.to_tensor(img)  # (1, H, W) float32 in [0,1]\n",
    "        seq = torch.tensor(self._text_to_indices(label), dtype=torch.long)\n",
    "        return img_tensor, seq    \n"
   ]
  },
  {
   "cell_type": "code",
   "execution_count": 30,
   "id": "0ff9539c-d96b-41e2-9c50-1d9a30205a53",
   "metadata": {},
   "outputs": [],
   "source": [
    "def pad_collate(batch, blank_idx: int, downsample_factor: int):\n",
    "    \"\"\"Pads images & labels in a batch, returning tensors required by CTC.\"\"\"\n",
    "    imgs, labels = zip(*batch)\n",
    "\n",
    "    # --- pad images to max width ---\n",
    "    heights = [im.shape[1] for im in imgs]\n",
    "    assert len(set(heights)) == 1, \"all images must share the target height\"\n",
    "    max_w = max(im.shape[2] for im in imgs)\n",
    "    padded_imgs = []\n",
    "    for im in imgs:\n",
    "        pad_w = max_w - im.shape[2]\n",
    "        padded = F.pad(im, (0, pad_w, 0, 0), value=1.0)  # right‑pad with white\n",
    "        padded_imgs.append(padded)\n",
    "    image_batch = torch.stack(padded_imgs)  # (B, 1, H, W)\n",
    "\n",
    "    # --- pad label sequences ---\n",
    "    label_lens = torch.tensor([len(l) for l in labels], dtype=torch.long)\n",
    "    max_lab = max(label_lens)\n",
    "    padded_labels = torch.full((len(labels), max_lab), blank_idx, dtype=torch.long)\n",
    "    for i, seq in enumerate(labels):\n",
    "        padded_labels[i, : len(seq)] = seq\n",
    "\n",
    "    # CTC expects (T, B, C); we also need input_lengths after CNN down‑sampling\n",
    "    input_lens = torch.full(\n",
    "        (len(labels),),\n",
    "        fill_value=math.floor(max_w / downsample_factor),\n",
    "        dtype=torch.long,\n",
    "    )\n",
    "    return image_batch, padded_labels, input_lens, label_lens"
   ]
  },
  {
   "cell_type": "markdown",
   "id": "84daf1fe-f724-4335-a4b4-97f09d30ca13",
   "metadata": {},
   "source": [
    "Model"
   ]
  },
  {
   "cell_type": "code",
   "execution_count": 6,
   "id": "0b39c28a-ec36-46fc-96f4-a53340bb6ea6",
   "metadata": {},
   "outputs": [],
   "source": [
    "import torch\n",
    "import torch.nn as nn\n",
    "import torch.nn.functional as F\n"
   ]
  },
  {
   "cell_type": "code",
   "execution_count": 39,
   "id": "fad19026-fa9b-4674-832c-92b6062a775b",
   "metadata": {},
   "outputs": [],
   "source": [
    "class CNNEncoder(nn.Module):\n",
    "    def __init__(self, d_model=256):\n",
    "        super().__init__()\n",
    "        resnet = models.resnet18(weights=None)\n",
    "        modules = list(resnet.children())[:-2]  \n",
    "        self.backbone = nn.Sequential(*modules)  \n",
    "\n",
    "        self.conv1x1 = nn.Conv2d(512, d_model, kernel_size=1) \n",
    "        self.flatten = nn.Flatten(2) \n",
    "        self.permute = lambda x: x.permute(0, 2, 1) \n",
    "\n",
    "    def forward(self, x):  # x: (B, 1, H, W)\n",
    "        x = x.expand(-1, 3, -1, -1) \n",
    "        feat = self.backbone(x)  # (B, 512, H', W')\n",
    "        feat = self.conv1x1(feat)  # (B, d_model, H', W')\n",
    "        seq = self.flatten(feat)   # (B, d_model, T)\n",
    "        return self.permute(seq)   # (B, T, d_model)\n",
    "\n"
   ]
  },
  {
   "cell_type": "code",
   "execution_count": 40,
   "id": "543fb956-e412-4406-97ab-bda5f89daf97",
   "metadata": {},
   "outputs": [],
   "source": [
    "class TransformerDecoderOCR(nn.Module):\n",
    "    def __init__(self, vocab_size, d_model=256, nhead=4, num_layers=3, dropout=0.1, max_len=100):\n",
    "        super().__init__()\n",
    "        self.d_model = d_model\n",
    "        self.embed = nn.Embedding(vocab_size, d_model)\n",
    "        self.pos_embed = nn.Parameter(torch.randn(1, max_len, d_model))  # learnable positional embedding\n",
    "        decoder_layer = nn.TransformerDecoderLayer(d_model, nhead, d_model*2, dropout, batch_first=True)\n",
    "        self.transformer_decoder = nn.TransformerDecoder(decoder_layer, num_layers)\n",
    "        self.fc = nn.Linear(d_model, vocab_size)\n",
    "\n",
    "    def forward(self, tgt_seq, memory):\n",
    "        # tgt_seq: (B, T_dec) - token ids with <sos> at start\n",
    "        # memory: (B, T_enc, d_model) - CNN features\n",
    "        B, T = tgt_seq.size()\n",
    "        tgt_embed = self.embed(tgt_seq) + self.pos_embed[:, :T, :]\n",
    "        tgt_mask = nn.Transformer.generate_square_subsequent_mask(T).to(tgt_seq.device)\n",
    "        output = self.transformer_decoder(tgt_embed, memory, tgt_mask=tgt_mask)\n",
    "        return self.fc(output)  # (B, T, vocab_size)"
   ]
  },
  {
   "cell_type": "code",
   "execution_count": 41,
   "id": "b39cddf5-5bae-4e48-af6f-e99287867596",
   "metadata": {},
   "outputs": [],
   "source": [
    "class OCRTransformer(nn.Module):\n",
    "    def __init__(self, vocab_size, d_model=256, max_len=100):\n",
    "        super().__init__()\n",
    "        self.encoder = CNNEncoder(d_model)\n",
    "        self.decoder = TransformerDecoderOCR(vocab_size, d_model, max_len=max_len)\n",
    "\n",
    "    def forward(self, images, tgt_input):  # images: (B, 1, H, W), tgt_input: (B, T)\n",
    "        memory = self.encoder(images)      # (B, T_enc, d_model)\n",
    "        logits = self.decoder(tgt_input, memory)  # (B, T_dec, vocab_size)\n",
    "        return logits\n"
   ]
  },
  {
   "cell_type": "markdown",
   "id": "b9f62983-929b-464b-9012-5be120c53736",
   "metadata": {},
   "source": [
    "Model Training"
   ]
  },
  {
   "cell_type": "code",
   "execution_count": 47,
   "id": "d516bf66-9aab-47bc-a11f-916d6bfedb28",
   "metadata": {},
   "outputs": [],
   "source": [
    "from torch.utils.data import DataLoader\n",
    "from torchvision import transforms\n",
    "import torchvision.models as models\n"
   ]
  },
  {
   "cell_type": "code",
   "execution_count": 43,
   "id": "e8fab3cb-a539-4c9e-ac13-7cfa6ae9dc89",
   "metadata": {},
   "outputs": [],
   "source": [
    "def build_vocab(label_file: str | Path):\n",
    "    text = \"\"\n",
    "    with open(label_file, \"r\", encoding=\"utf-8\") as f:\n",
    "        for line in f:\n",
    "            _img, lbl = line.rstrip(\"\\n\").split(\"\\t\", 1)\n",
    "            text += lbl.replace(\"|\", \" \")\n",
    "    vocab = sorted(set(text))\n",
    "    char2idx = {c: i + 3 for i, c in enumerate(vocab)}\n",
    "    char2idx['<pad>'] = 0\n",
    "    char2idx['<sos>'] = 1\n",
    "    char2idx['<eos>'] = 2\n",
    "    idx2char = {i: c for c, i in char2idx.items()}\n",
    "    return char2idx, idx2char\n"
   ]
  },
  {
   "cell_type": "code",
   "execution_count": 44,
   "id": "ac6b8cbc-2276-4a5b-865c-7b81d7e79dac",
   "metadata": {},
   "outputs": [],
   "source": [
    "label_file = \"train_data/rec/rec_gt_train.txt\"\n",
    "char2idx, idx2char = build_vocab(label_file)\n",
    "pad_id = char2idx['<pad>']\n",
    "sos_id = char2idx['<sos>']\n",
    "eos_id = char2idx['<eos>']\n"
   ]
  },
  {
   "cell_type": "code",
   "execution_count": 45,
   "id": "7e8f7977-d8a7-4f54-9731-b3d920688285",
   "metadata": {},
   "outputs": [],
   "source": [
    "train_dataset = HandwritingDataset(\n",
    "    data_root=\"train_data/rec/train\",\n",
    "    label_file=label_file,\n",
    "    char2idx=char2idx\n",
    ")\n",
    "\n",
    "def collate_batch(batch, pad_id, sos_id):\n",
    "    # 图片padding to max width\n",
    "    from torch.nn.utils.rnn import pad_sequence\n",
    "    imgs, labels = zip(*batch)\n",
    "    max_width = max(img.shape[-1] for img in imgs)\n",
    "    padded_imgs = [nn.functional.pad(img, (0, max_width - img.shape[-1])) for img in imgs]\n",
    "    imgs_tensor = torch.stack(padded_imgs)\n",
    "\n",
    "    inputs = [[sos_id] + seq.tolist() for seq in labels]\n",
    "    targets = [seq.tolist() + [eos_id] for seq in labels]\n",
    "    input_tensor = pad_sequence([torch.tensor(s) for s in inputs], batch_first=True, padding_value=pad_id)\n",
    "    target_tensor = pad_sequence([torch.tensor(s) for s in targets], batch_first=True, padding_value=pad_id)\n",
    "    return imgs_tensor, input_tensor, target_tensor"
   ]
  },
  {
   "cell_type": "code",
   "execution_count": null,
   "id": "b7c429f2-49c6-4d5c-af22-ef81ed234046",
   "metadata": {},
   "outputs": [
    {
     "name": "stdout",
     "output_type": "stream",
     "text": [
      "  step 000000  batch_loss=4.5354\n",
      "  step 000001  batch_loss=4.2061\n",
      "  step 000002  batch_loss=3.9647\n",
      "  step 000003  batch_loss=3.7531\n",
      "  step 000004  batch_loss=3.6387\n",
      "  step 000005  batch_loss=3.4961\n",
      "  step 000006  batch_loss=3.4491\n",
      "  step 000007  batch_loss=3.4218\n",
      "  step 000008  batch_loss=3.3856\n",
      "  step 000009  batch_loss=3.3439\n",
      "  step 000010  batch_loss=3.2748\n",
      "  step 000011  batch_loss=3.3219\n",
      "  step 000012  batch_loss=3.2734\n",
      "  step 000013  batch_loss=3.2509\n",
      "  step 000014  batch_loss=3.2498\n"
     ]
    }
   ],
   "source": [
    "# ===== 3. 模型训练 =====\n",
    "device = torch.device(\"cuda\" if torch.cuda.is_available() else \"cpu\")\n",
    "model = OCRTransformer(vocab_size=len(char2idx), d_model=256, max_len=100).to(device)\n",
    "optimizer = torch.optim.Adam(model.parameters(), lr=1e-4)\n",
    "criterion = nn.CrossEntropyLoss(ignore_index=pad_id)\n",
    "train_loader = DataLoader(train_dataset, batch_size=32, shuffle=True,\n",
    "                          collate_fn=lambda b: collate_batch(b, pad_id, sos_id))\n",
    "for epoch in range(10):\n",
    "    loss = train_one_epoch(\n",
    "        model, train_loader, criterion, optimizer,\n",
    "        device, pad_id, step=epoch*len(train_loader)\n",
    "    )\n",
    "    print(f\"Epoch {epoch}: Train loss = {loss:.4f}\")\n"
   ]
  },
  {
   "cell_type": "code",
   "execution_count": 49,
   "id": "75b0defd-726b-45f6-8a7c-d25ba4a35fc6",
   "metadata": {},
   "outputs": [
    {
     "data": {
      "image/png": "[encoded data removed]",
      "text/plain": [
       "<Figure size 1600x600 with 8 Axes>"
      ]
     },
     "metadata": {},
     "output_type": "display_data"
    }
   ],
   "source": [
    "import matplotlib.pyplot as plt\n",
    "\n",
    "model.eval()\n",
    "\n",
    "images, _, _ = next(iter(train_loader))\n",
    "images = images.to(device)\n",
    "\n",
    "preds = greedy_decode(model, images[:8], sos_id, eos_id, max_len=100, idx2char=idx2char)\n",
    "\n",
    "def show_images_with_preds(images, preds):\n",
    "    fig, axes = plt.subplots(2, 4, figsize=(16, 6))\n",
    "    axes = axes.flatten()\n",
    "    for i, ax in enumerate(axes):\n",
    "        img = images[i].cpu().squeeze(0).squeeze(0).numpy()  # (1, H, W) -> (H, W)\n",
    "        ax.imshow(img, cmap='gray')\n",
    "        ax.set_title(preds[i], fontsize=12)\n",
    "        ax.axis('off')\n",
    "    plt.tight_layout()\n",
    "    plt.show()\n",
    "\n",
    "show_images_with_preds(images[:8], preds)\n"
   ]
  },
  {
   "cell_type": "code",
   "execution_count": 50,
   "id": "091d1242-5eb7-4354-b556-c79dd34c8684",
   "metadata": {},
   "outputs": [
    {
     "name": "stdout",
     "output_type": "stream",
     "text": [
      "Collecting jiwer\n",
      "  Downloading jiwer-3.1.0-py3-none-any.whl.metadata (2.6 kB)\n",
      "Collecting click>=8.1.8 (from jiwer)\n",
      "  Downloading click-8.2.1-py3-none-any.whl.metadata (2.5 kB)\n",
      "Collecting rapidfuzz>=3.9.7 (from jiwer)\n",
      "  Downloading rapidfuzz-3.13.0-cp311-cp311-macosx_11_0_arm64.whl.metadata (12 kB)\n",
      "Downloading jiwer-3.1.0-py3-none-any.whl (22 kB)\n",
      "Downloading click-8.2.1-py3-none-any.whl (102 kB)\n",
      "\u001b[2K   \u001b[90m━━━━━━━━━━━━━━━━━━━━━━━━━━━━━━━━━━━━━━━━\u001b[0m \u001b[32m102.2/102.2 kB\u001b[0m \u001b[31m1.8 MB/s\u001b[0m eta \u001b[36m0:00:00\u001b[0m \u001b[36m0:00:01\u001b[0m\n",
      "Downloading rapidfuzz-3.13.0-cp311-cp311-macosx_11_0_arm64.whl (1.5 MB)\n",
      "\u001b[2K   \u001b[90m━━━━━━━━━━━━━━━━━━━━━━━━━━━━━━━━━━━━━━━━\u001b[0m \u001b[32m1.5/1.5 MB\u001b[0m \u001b[31m2.5 MB/s\u001b[0m eta \u001b[36m0:00:00\u001b[0ma \u001b[36m0:00:01\u001b[0m\n",
      "Installing collected packages: rapidfuzz, click, jiwer\n",
      "Successfully installed click-8.2.1 jiwer-3.1.0 rapidfuzz-3.13.0\n",
      "Note: you may need to restart the kernel to use updated packages.\n"
     ]
    }
   ],
   "source": [
    "pip install jiwer\n"
   ]
  },
  {
   "cell_type": "code",
   "execution_count": 51,
   "id": "bd67ff53-372b-4f86-8b18-47b94dbf5b7f",
   "metadata": {},
   "outputs": [
    {
     "name": "stdout",
     "output_type": "stream",
     "text": [
      "Character Error Rate (CER): 0.5314\n",
      "Word Error Rate (WER): 0.6881\n"
     ]
    }
   ],
   "source": [
    "from jiwer import cer, wer\n",
    "\n",
    "def evaluate_ocr(model, data_loader, device, sos_id, eos_id, idx2char, pad_id, max_len=100):\n",
    "    model.eval()\n",
    "    all_preds = []\n",
    "    all_targets = []\n",
    "\n",
    "    with torch.no_grad():\n",
    "        for images, _, targets in data_loader:\n",
    "            images = images.to(device)\n",
    "            targets = targets.cpu().tolist()\n",
    "\n",
    "            preds = greedy_decode(model, images, sos_id, eos_id, max_len, idx2char)\n",
    "\n",
    "            for pred, target in zip(preds, targets):\n",
    "                target_text = \"\".join([idx2char[i] for i in target if i != pad_id and i != eos_id])\n",
    "                all_preds.append(pred)\n",
    "                all_targets.append(target_text)\n",
    "\n",
    "    character_error = cer(all_targets, all_preds)\n",
    "    word_error = wer(all_targets, all_preds)\n",
    "    return character_error, word_error\n",
    "\n",
    "cer_score, wer_score = evaluate_ocr(\n",
    "    model, train_loader, device, sos_id, eos_id, idx2char, pad_id\n",
    ")\n",
    "\n",
    "print(f\"Character Error Rate (CER): {cer_score:.4f}\")\n",
    "print(f\"Word Error Rate (WER): {wer_score:.4f}\")\n"
   ]
  },
  {
   "cell_type": "code",
   "execution_count": null,
   "id": "c54c91c1-24db-4ec5-bcd3-c39692f179ee",
   "metadata": {},
   "outputs": [],
   "source": []
  }
 ],
 "metadata": {
  "kernelspec": {
   "display_name": "Python 3 (ipykernel)",
   "language": "python",
   "name": "python3"
  },
  "language_info": {
   "codemirror_mode": {
    "name": "ipython",
    "version": 3
   },
   "file_extension": ".py",
   "mimetype": "text/x-python",
   "name": "python",
   "nbconvert_exporter": "python",
   "pygments_lexer": "ipython3",
   "version": "3.11.9"
  }
 },
 "nbformat": 4,
 "nbformat_minor": 5
}
